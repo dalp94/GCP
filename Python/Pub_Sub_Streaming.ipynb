{
 "cells": [
  {
   "cell_type": "markdown",
   "metadata": {},
   "source": [
    "CREA UN BUCKET DE CLOUD STORAGE\n",
    "> gsutil mb gs://databits_streaming"
   ]
  },
  {
   "cell_type": "markdown",
   "metadata": {},
   "source": [
    "CREA UN TOPIC DE PUB/SUB\n",
    "> gcloud pubsub topics create topic_stream"
   ]
  },
  {
   "cell_type": "markdown",
   "metadata": {},
   "source": [
    "CREE UNA APLICACIÓN DE APP ENGINE\n",
    "> gcloud app create --region=us-central1"
   ]
  },
  {
   "cell_type": "markdown",
   "metadata": {},
   "source": [
    "CREA UN TRABAJO DE CLOUD SCHEDULER.\n",
    "EL TRABAJO PUBLICA UN MENSAJE EN UN TEMA DE PUB/SUB EN INTERVALOS DE UN MINUTO.\n",
    "> gcloud scheduler jobs create pubsub publisher-job --schedule=\"* * * * *\" --topic=topic_stream --message-body=\"Hello Databits in Streaming!\"\n"
   ]
  },
  {
   "cell_type": "markdown",
   "metadata": {},
   "source": [
    "CREAMNOS EL TRABAJO\n",
    "> gcloud scheduler jobs run publisher-job"
   ]
  },
  {
   "cell_type": "markdown",
   "metadata": {},
   "source": [
    "INSTALAR APACHE BEAM\n",
    "> pip install apache-beam[gcp]==2.33.0"
   ]
  },
  {
   "cell_type": "raw",
   "metadata": {},
   "source": [
    "# EJECUTAMOS PIPELINE\n",
    "python pipeline.py \\\n",
    "    --project=keen-enigma-342516 \\\n",
    "    --region=us-central1 \\\n",
    "    --input_topic=projects/keen-enigma-342516/topics/topic_stream \\\n",
    "    --output_path=gs://databits_streaming/samples/output \\\n",
    "    --runner=DataflowRunner \\\n",
    "    --window_size=2 \\\n",
    "    --num_shards=2 \\\n",
    "    --temp_location=gs://databits_streaming/temp"
   ]
  },
  {
   "cell_type": "markdown",
   "metadata": {},
   "source": [
    "LISTAMOS ARCHIVOS CREADOS\n",
    "> gsutil ls gs://databits_streaming/samples/output"
   ]
  },
  {
   "cell_type": "markdown",
   "metadata": {},
   "source": [
    "ELIMINAR JOBS CREADOS\n",
    "> gcloud scheduler jobs delete publisher-job"
   ]
  },
  {
   "cell_type": "markdown",
   "metadata": {},
   "source": [
    "ELIMINAMOS TOPIC\n",
    "> gcloud pubsub topics delete topic_stream"
   ]
  },
  {
   "cell_type": "markdown",
   "metadata": {},
   "source": [
    "ELIMINAMOS ARCHIVOS CREADOS EN CLOUD STORAGE\n",
    "> gsutil -m rm -rf \"gs://databits_streaming/samples/output/output*\" \\\n",
    "> gsutil -m rm -rf \"gs://databits_streaming/temp/*\""
   ]
  },
  {
   "cell_type": "markdown",
   "metadata": {},
   "source": [
    "ELIMINAMOS DEPOSITO DE CLOUD STORAGE\n",
    "> gsutil rb gs://databits_streaming"
   ]
  },
  {
   "cell_type": "code",
   "execution_count": null,
   "metadata": {},
   "outputs": [],
   "source": []
  }
 ],
 "metadata": {
  "hide_input": false,
  "kernelspec": {
   "display_name": "Python 3",
   "language": "python",
   "name": "python3"
  },
  "language_info": {
   "codemirror_mode": {
    "name": "ipython",
    "version": 3
   },
   "file_extension": ".py",
   "mimetype": "text/x-python",
   "name": "python",
   "nbconvert_exporter": "python",
   "pygments_lexer": "ipython3",
   "version": "3.8.5"
  },
  "toc": {
   "base_numbering": 1,
   "nav_menu": {},
   "number_sections": true,
   "sideBar": true,
   "skip_h1_title": false,
   "title_cell": "Table of Contents",
   "title_sidebar": "Contents",
   "toc_cell": false,
   "toc_position": {},
   "toc_section_display": true,
   "toc_window_display": false
  }
 },
 "nbformat": 4,
 "nbformat_minor": 5
}
