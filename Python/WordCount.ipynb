{
 "cells": [
  {
   "cell_type": "raw",
   "id": "7f3a5537-03ea-4dbc-ad6a-c9e8deed82ea",
   "metadata": {},
   "source": [
    "Instalamos la lbreria de Apache Beam para Google Cloud Platform"
   ]
  },
  {
   "cell_type": "code",
   "execution_count": null,
   "id": "18eb37a5-26ce-4fc5-b2ff-ad861dd1aa27",
   "metadata": {
    "tags": []
   },
   "outputs": [],
   "source": [
    "pip install apache-beam[gcp]"
   ]
  },
  {
   "cell_type": "raw",
   "id": "ffaf7c97-238d-4b3d-8f10-f6245756db12",
   "metadata": {},
   "source": [
    "Importamos la librería PipelineOptions"
   ]
  },
  {
   "cell_type": "code",
   "execution_count": null,
   "id": "34ff3de7-62f9-4670-a66a-f646d5fdc3bc",
   "metadata": {},
   "outputs": [],
   "source": [
    "from apache_beam.options.pipeline_options import PipelineOptions"
   ]
  },
  {
   "cell_type": "raw",
   "id": "b835af56-93e8-4f4b-b2fe-72229f6f099d",
   "metadata": {},
   "source": [
    "Declaramos la variables del proyecto para poder ejecutar el trabajo en GCP"
   ]
  },
  {
   "cell_type": "code",
   "execution_count": null,
   "id": "8546f38d-68fc-4f3f-a5d4-c11a9a2cbe5c",
   "metadata": {},
   "outputs": [],
   "source": [
    "RUNNER = 'DataflowRunner'\n",
    "PROJECT = 'keen-enigma-342516'\n",
    "JOB = 'quijote-counts-job-name'\n",
    "TEMP_LOCATION = 'gs://dataflow_databits/temp'\n",
    "REGION = 'us-central1'"
   ]
  },
  {
   "cell_type": "raw",
   "id": "973ed097-8a9d-44d9-a5c3-1badf1c77946",
   "metadata": {},
   "source": [
    "Continuamos a configuración de opciones"
   ]
  },
  {
   "cell_type": "code",
   "execution_count": null,
   "id": "532df760-66ae-4e92-87b2-6f1579e6b6cc",
   "metadata": {},
   "outputs": [],
   "source": [
    "beam_options = PipelineOptions(\n",
    "    runner=RUNNER,\n",
    "    project=PROJECT,\n",
    "    job_name=JOB,\n",
    "    temp_location=TEMP_LOCATION,\n",
    "    region=REGION,\n",
    ")"
   ]
  },
  {
   "cell_type": "raw",
   "id": "938b92d6-8bd9-4a94-b1be-0965abc1656f",
   "metadata": {},
   "source": [
    "Definimos fuente de datos de entrada y ruta de salida"
   ]
  },
  {
   "cell_type": "code",
   "execution_count": null,
   "id": "9f7309d6-91eb-4d80-9c1b-5ee0657e6fb3",
   "metadata": {},
   "outputs": [],
   "source": [
    "INPUT_FILE = 'gs://dataflow_databits/el_quijote.txt'\n",
    "OUTPUT_FILE = 'gs://dataflow_databits/el_quijote_counts'"
   ]
  },
  {
   "cell_type": "raw",
   "id": "6acb1c44-72a7-4226-98ed-957c41d4d98f",
   "metadata": {},
   "source": [
    "Creamos el Pipeline y se ejecuta en la nube"
   ]
  },
  {
   "cell_type": "code",
   "execution_count": null,
   "id": "a10e055a-3565-43a3-9e3f-3b834d38e180",
   "metadata": {},
   "outputs": [],
   "source": [
    "with beam.Pipeline(options=beam_options) as pipeline:\n",
    "    (\n",
    "        pipeline\n",
    "        | 'Read lines' >> beam.io.ReadFromText(INPUT_FILE)\n",
    "        | 'Find words' >> beam.FlatMap(lambda line: re.findall(r\"[a-zA-Z']+\", line))\n",
    "        | 'Pair words with 1' >> beam.Map(lambda word: (word, 1))\n",
    "        | 'Group and sum' >> beam.CombinePerKey(sum)\n",
    "        | 'Format results' >> beam.Map(lambda word_count: str(word_count))\n",
    "        | 'Write results' >> beam.io.WriteToText(OUTPUT_FILE)\n",
    "    )"
   ]
  }
 ],
 "metadata": {
  "kernelspec": {
   "display_name": "Python 3 (ipykernel)",
   "language": "python",
   "name": "python3"
  },
  "language_info": {
   "codemirror_mode": {
    "name": "ipython",
    "version": 3
   },
   "file_extension": ".py",
   "mimetype": "text/x-python",
   "name": "python",
   "nbconvert_exporter": "python",
   "pygments_lexer": "ipython3",
   "version": "3.7.12"
  }
 },
 "nbformat": 4,
 "nbformat_minor": 5
}
